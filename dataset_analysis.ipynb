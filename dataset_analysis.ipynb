{
 "cells": [
  {
   "cell_type": "code",
   "execution_count": 1,
   "id": "96ba32f0",
   "metadata": {},
   "outputs": [
    {
     "name": "stdout",
     "output_type": "stream",
     "text": [
      "<class 'pandas.core.frame.DataFrame'>\n",
      "RangeIndex: 52702 entries, 0 to 52701\n",
      "Data columns (total 2 columns):\n",
      " #   Column  Non-Null Count  Dtype \n",
      "---  ------  --------------  ----- \n",
      " 0   Review  52686 non-null  object\n",
      " 1   label   52702 non-null  object\n",
      "dtypes: object(2)\n",
      "memory usage: 823.6+ KB\n",
      "None\n"
     ]
    },
    {
     "data": {
      "text/html": [
       "<div>\n",
       "<style scoped>\n",
       "    .dataframe tbody tr th:only-of-type {\n",
       "        vertical-align: middle;\n",
       "    }\n",
       "\n",
       "    .dataframe tbody tr th {\n",
       "        vertical-align: top;\n",
       "    }\n",
       "\n",
       "    .dataframe thead th {\n",
       "        text-align: right;\n",
       "    }\n",
       "</style>\n",
       "<table border=\"1\" class=\"dataframe\">\n",
       "  <thead>\n",
       "    <tr style=\"text-align: right;\">\n",
       "      <th></th>\n",
       "      <th>Review</th>\n",
       "      <th>label</th>\n",
       "    </tr>\n",
       "  </thead>\n",
       "  <tbody>\n",
       "    <tr>\n",
       "      <th>0</th>\n",
       "      <td>Great music service, the audio is high quality...</td>\n",
       "      <td>POSITIVE</td>\n",
       "    </tr>\n",
       "    <tr>\n",
       "      <th>1</th>\n",
       "      <td>Please ignore previous negative rating. This a...</td>\n",
       "      <td>POSITIVE</td>\n",
       "    </tr>\n",
       "    <tr>\n",
       "      <th>2</th>\n",
       "      <td>This pop-up \"Get the best Spotify experience o...</td>\n",
       "      <td>NEGATIVE</td>\n",
       "    </tr>\n",
       "    <tr>\n",
       "      <th>3</th>\n",
       "      <td>Really buggy and terrible to use as of recently</td>\n",
       "      <td>NEGATIVE</td>\n",
       "    </tr>\n",
       "    <tr>\n",
       "      <th>4</th>\n",
       "      <td>Dear Spotify why do I get songs that I didn't ...</td>\n",
       "      <td>NEGATIVE</td>\n",
       "    </tr>\n",
       "    <tr>\n",
       "      <th>...</th>\n",
       "      <td>...</td>\n",
       "      <td>...</td>\n",
       "    </tr>\n",
       "    <tr>\n",
       "      <th>52697</th>\n",
       "      <td>Yes the best</td>\n",
       "      <td>POSITIVE</td>\n",
       "    </tr>\n",
       "    <tr>\n",
       "      <th>52698</th>\n",
       "      <td>Spotify won my heart in Feb 2024 You won my he...</td>\n",
       "      <td>POSITIVE</td>\n",
       "    </tr>\n",
       "    <tr>\n",
       "      <th>52699</th>\n",
       "      <td>I tried to open the app and it wont open I res...</td>\n",
       "      <td>POSITIVE</td>\n",
       "    </tr>\n",
       "    <tr>\n",
       "      <th>52700</th>\n",
       "      <td>Good</td>\n",
       "      <td>POSITIVE</td>\n",
       "    </tr>\n",
       "    <tr>\n",
       "      <th>52701</th>\n",
       "      <td>Nice app to play music and at very affordable ...</td>\n",
       "      <td>POSITIVE</td>\n",
       "    </tr>\n",
       "  </tbody>\n",
       "</table>\n",
       "<p>52702 rows × 2 columns</p>\n",
       "</div>"
      ],
      "text/plain": [
       "                                                  Review     label\n",
       "0      Great music service, the audio is high quality...  POSITIVE\n",
       "1      Please ignore previous negative rating. This a...  POSITIVE\n",
       "2      This pop-up \"Get the best Spotify experience o...  NEGATIVE\n",
       "3        Really buggy and terrible to use as of recently  NEGATIVE\n",
       "4      Dear Spotify why do I get songs that I didn't ...  NEGATIVE\n",
       "...                                                  ...       ...\n",
       "52697                                       Yes the best  POSITIVE\n",
       "52698  Spotify won my heart in Feb 2024 You won my he...  POSITIVE\n",
       "52699  I tried to open the app and it wont open I res...  POSITIVE\n",
       "52700                                              Good   POSITIVE\n",
       "52701  Nice app to play music and at very affordable ...  POSITIVE\n",
       "\n",
       "[52702 rows x 2 columns]"
      ]
     },
     "execution_count": 1,
     "metadata": {},
     "output_type": "execute_result"
    }
   ],
   "source": [
    "import pandas as pd\n",
    "import seaborn as sns\n",
    "import re\n",
    "import nltk\n",
    "from nltk.corpus import stopwords\n",
    "from sklearn.feature_extraction.text import TfidfVectorizer\n",
    "from sklearn.model_selection import train_test_split\n",
    "from sklearn.preprocessing import LabelEncoder\n",
    "from sklearn.pipeline import Pipeline\n",
    "from sklearn.svm import SVC\n",
    "\n",
    "data = pd.read_csv('./data/DATASET.CSV')\n",
    "print(f'{data.info()}')\n",
    "data"
   ]
  },
  {
   "cell_type": "code",
   "execution_count": 2,
   "id": "594874de",
   "metadata": {},
   "outputs": [
    {
     "name": "stdout",
     "output_type": "stream",
     "text": [
      "NULL before claning: Review    16\n",
      "label      0\n",
      "dtype: int64\n",
      "\n",
      "NULL after claning:Review    0\n",
      "label     0\n",
      "dtype: int64\n"
     ]
    }
   ],
   "source": [
    "print(f'NULL before claning: {data.isnull().sum()}\\n')\n",
    "\n",
    "data.dropna(subset=['Review'], inplace=True)\n",
    "\n",
    "print(f'NULL after claning:{data.isnull().sum()}')"
   ]
  },
  {
   "cell_type": "code",
   "execution_count": 3,
   "id": "349f3498",
   "metadata": {},
   "outputs": [
    {
     "name": "stdout",
     "output_type": "stream",
     "text": [
      "label\n",
      "NEGATIVE    29423\n",
      "POSITIVE    23263\n",
      "Name: count, dtype: int64\n"
     ]
    },
    {
     "data": {
      "text/plain": [
       "<Axes: xlabel='label', ylabel='count'>"
      ]
     },
     "execution_count": 3,
     "metadata": {},
     "output_type": "execute_result"
    },
    {
     "data": {
      "image/png": "[encoded data removed]",
      "text/plain": [
       "<Figure size 640x480 with 1 Axes>"
      ]
     },
     "metadata": {},
     "output_type": "display_data"
    }
   ],
   "source": [
    "print(f'{data[\"label\"].value_counts()}')\n",
    "sns.countplot(data, x='label')"
   ]
  },
  {
   "cell_type": "markdown",
   "id": "28fd0932",
   "metadata": {},
   "source": [
    "CLEANING"
   ]
  },
  {
   "cell_type": "code",
   "execution_count": 4,
   "id": "ff411ba8",
   "metadata": {},
   "outputs": [
    {
     "name": "stdout",
     "output_type": "stream",
     "text": [
      "I really like a sound.....hello everyone...have a nice day....ðŸ˜ŽðŸ˜ŽðŸ˜Ž Stay safe...always god bless...ðŸ™ðŸ™ðŸ™\n",
      "i really like a sound hello everyone have a nice day stay safe always god bless\n"
     ]
    }
   ],
   "source": [
    "import re\n",
    "print(f'{data.iloc[283, 0]}')\n",
    "\n",
    "def pre_preparation(text: str) -> str:\n",
    "    text = re.sub(r'Ã[\\x80-\\xBF]+', ' ', text) \n",
    "    text = re.sub(r'[^a-zA-Z\\s]', ' ', text) \n",
    "    text = re.sub(r'\\s+', ' ', text)\n",
    "    text = text.strip()\n",
    "    text = text.lower()\n",
    "    return text\n",
    "\n",
    "data['Review'] = data['Review'].apply(lambda x: pre_preparation(x))\n",
    "print(f'{data.iloc[283, 0]}')"
   ]
  },
  {
   "cell_type": "code",
   "execution_count": 5,
   "id": "dcb84b47",
   "metadata": {},
   "outputs": [],
   "source": [
    "import nltk\n",
    "# nltk.download('all')\n",
    "data['tokenized_review'] = data['Review'].apply(lambda x: nltk.word_tokenize(x))"
   ]
  },
  {
   "cell_type": "code",
   "execution_count": 6,
   "id": "b6996922",
   "metadata": {},
   "outputs": [
    {
     "data": {
      "text/plain": [
       "'great music service audio high quality app easy use also quick friendly support'"
      ]
     },
     "execution_count": 6,
     "metadata": {},
     "output_type": "execute_result"
    }
   ],
   "source": [
    "def stopwords_removal(words: list) -> list:\n",
    "    stop_words = stopwords.words('english')\n",
    "    return [word for word in words if word not in stop_words]\n",
    "\n",
    "filter_tokens = data['tokenized_review'].apply(lambda x: stopwords_removal(x))\n",
    "\n",
    "if isinstance(filter_tokens[0], list):  \n",
    "    cleaned_data = [\" \".join(review) for review in filter_tokens]\n",
    "cleaned_data[0]"
   ]
  },
  {
   "cell_type": "code",
   "execution_count": 7,
   "id": "ba30ea72",
   "metadata": {},
   "outputs": [
    {
     "name": "stdout",
     "output_type": "stream",
     "text": [
      "TF-IDF vector for first review: [0. 0. 0. ... 0. 0. 0.]\n",
      "\n",
      "Non-zero TF-IDF values for first review:\n",
      "also: 0.22663774350458454\n",
      "app: 0.10745828196785459\n",
      "audio: 0.30850995501612105\n",
      "easy: 0.2508358389724394\n",
      "friendly: 0.36243502655321097\n",
      "great: 0.1863341137968253\n",
      "high: 0.36222277472572334\n",
      "music: 0.12225117648138328\n",
      "quality: 0.2660414981376143\n",
      "quick: 0.4226712169816506\n",
      "service: 0.26245950084187714\n",
      "support: 0.3282731413738586\n",
      "use: 0.20170156160715924\n"
     ]
    }
   ],
   "source": [
    "tfidf = TfidfVectorizer(max_features=5000)\n",
    "X = tfidf.fit_transform(cleaned_data).toarray()\n",
    "\n",
    "print(\"TF-IDF vector for first review:\", X[0])\n",
    "\n",
    "\n",
    "non_zero_indices = X[0].nonzero()[0]  \n",
    "non_zero_values = X[0][non_zero_indices] \n",
    "\n",
    "# Print the actual words corresponding to non-zero values\n",
    "feature_names = tfidf.get_feature_names_out()\n",
    "important_words = [(feature_names[i], non_zero_values[j]) for j, i in enumerate(non_zero_indices)]\n",
    "\n",
    "print(\"\\nNon-zero TF-IDF values for first review:\")\n",
    "for word, score in important_words:\n",
    "    print(f\"{word}: {score}\")"
   ]
  },
  {
   "cell_type": "code",
   "execution_count": 8,
   "id": "92a48d36",
   "metadata": {},
   "outputs": [],
   "source": [
    "label_encoder = LabelEncoder()\n",
    "labels = data['label'].values\n",
    "encoded_labels = label_encoder.fit_transform(labels)"
   ]
  }
 ],
 "metadata": {
  "kernelspec": {
   "display_name": "venv",
   "language": "python",
   "name": "python3"
  },
  "language_info": {
   "codemirror_mode": {
    "name": "ipython",
    "version": 3
   },
   "file_extension": ".py",
   "mimetype": "text/x-python",
   "name": "python",
   "nbconvert_exporter": "python",
   "pygments_lexer": "ipython3",
   "version": "3.11.7"
  }
 },
 "nbformat": 4,
 "nbformat_minor": 5
}
